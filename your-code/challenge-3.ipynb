{
 "cells": [
  {
   "cell_type": "markdown",
   "metadata": {},
   "source": [
    "# Challenge 3\n",
    "\n",
    "In this challenge we will work on the `Orders` data set. In your work you will apply the thinking process and workflow we showed you in Challenge 2.\n",
    "\n",
    "You are serving as a Business Intelligence Analyst at the headquarter of an international fashion goods chain store. Your boss today asked you to do two things for her:\n",
    "\n",
    "**First, identify two groups of customers from the data set.** The first group is **VIP Customers** whose **aggregated expenses** at your global chain stores are **above the 95th percentile** (aka. 0.95 quantile). The second group is **Preferred Customers** whose **aggregated expenses** are **between the 75th and 95th percentile**.\n",
    "\n",
    "**Second, identify which country has the most of your VIP customers, and which country has the most of your VIP+Preferred Customers combined.**"
   ]
  },
  {
   "cell_type": "markdown",
   "metadata": {},
   "source": [
    "## Q1: How to identify VIP & Preferred Customers?\n",
    "\n",
    "We start by importing all the required libraries:"
   ]
  },
  {
   "cell_type": "code",
   "execution_count": 1,
   "metadata": {},
   "outputs": [],
   "source": [
    "# import required libraries\n",
    "import numpy as np\n",
    "import pandas as pd"
   ]
  },
  {
   "cell_type": "markdown",
   "metadata": {},
   "source": [
    "Next, extract and import `Orders` dataset into a dataframe variable called `orders`. Print the head of `orders` to overview the data:"
   ]
  },
  {
   "cell_type": "code",
   "execution_count": 4,
   "metadata": {},
   "outputs": [
    {
     "name": "stdout",
     "output_type": "stream",
     "text": [
      "   Unnamed: 0  InvoiceNo StockCode  year  month  day  hour  \\\n",
      "0           0     536365    85123A  2010     12    3     8   \n",
      "1           1     536365     71053  2010     12    3     8   \n",
      "2           2     536365    84406B  2010     12    3     8   \n",
      "3           3     536365    84029G  2010     12    3     8   \n",
      "4           4     536365    84029E  2010     12    3     8   \n",
      "\n",
      "                           Description  Quantity          InvoiceDate  \\\n",
      "0   white hanging heart t-light holder         6  2010-12-01 08:26:00   \n",
      "1                  white metal lantern         6  2010-12-01 08:26:00   \n",
      "2       cream cupid hearts coat hanger         8  2010-12-01 08:26:00   \n",
      "3  knitted union flag hot water bottle         6  2010-12-01 08:26:00   \n",
      "4       red woolly hottie white heart.         6  2010-12-01 08:26:00   \n",
      "\n",
      "   UnitPrice  CustomerID         Country  amount_spent  \n",
      "0       2.55       17850  United Kingdom         15.30  \n",
      "1       3.39       17850  United Kingdom         20.34  \n",
      "2       2.75       17850  United Kingdom         22.00  \n",
      "3       3.39       17850  United Kingdom         20.34  \n",
      "4       3.39       17850  United Kingdom         20.34  \n"
     ]
    }
   ],
   "source": [
    "# your code here\n",
    "orders=pd.read_csv('Orders.zip')\n",
    "\n",
    "print(orders.head())"
   ]
  },
  {
   "cell_type": "markdown",
   "metadata": {},
   "source": [
    "---\n",
    "\n",
    "\"Identify VIP and Preferred Customers\" is the non-technical goal of your boss. You need to translate that goal into technical languages that data analysts use:\n",
    "\n",
    "## How to label customers whose aggregated `amount_spent` is in a given quantile range?\n"
   ]
  },
  {
   "cell_type": "markdown",
   "metadata": {},
   "source": [
    "We break down the main problem into several sub problems:\n",
    "\n",
    "#### Sub Problem 1: How to aggregate the  `amount_spent` for unique customers?\n",
    "\n",
    "#### Sub Problem 2: How to select customers whose aggregated `amount_spent` is in a given quantile range?\n",
    "\n",
    "#### Sub Problem 3: How to label selected customers as \"VIP\" or \"Preferred\"?\n",
    "\n",
    "*Note: If you want to break down the main problem in a different way, please feel free to revise the sub problems above.*\n",
    "\n",
    "Now in the workspace below, tackle each of the sub problems using the iterative problem solving workflow. Insert cells as necessary to write your codes and explain your steps."
   ]
  },
  {
   "cell_type": "code",
   "execution_count": 21,
   "metadata": {},
   "outputs": [
    {
     "data": {
      "text/plain": [
       "RegularClient    199112\n",
       "VIPClient        198812\n",
       "Name: amount_spent, dtype: int64"
      ]
     },
     "execution_count": 21,
     "metadata": {},
     "output_type": "execute_result"
    }
   ],
   "source": [
    "# your code here\n",
    "##Aggregate amount spent for unique customers:\n",
    "orders[\"CustomerID\"].nunique() ## used this line to check nr of unique entries in client column\n",
    "orders.groupby([\"CustomerID\"]).agg({'amount_spent':'sum'})\n",
    "\n",
    "###Select Clients by quantile and label them:\n",
    "Labels=[\"RegularClient\", \"VIPClient\"]\n",
    "qbins= pd.qcut(orders['amount_spent'],2, labels=Labels)\n",
    "qbins.value_counts()"
   ]
  },
  {
   "cell_type": "markdown",
   "metadata": {},
   "source": [
    "Now we'll leave it to you to solve Q2 & Q3, which you can leverage from your solution for Q1:\n",
    "\n",
    "## Q2: How to identify which country has the most VIP Customers?"
   ]
  },
  {
   "cell_type": "code",
   "execution_count": 32,
   "metadata": {},
   "outputs": [
    {
     "data": {
      "text/html": [
       "<div>\n",
       "<style scoped>\n",
       "    .dataframe tbody tr th:only-of-type {\n",
       "        vertical-align: middle;\n",
       "    }\n",
       "\n",
       "    .dataframe tbody tr th {\n",
       "        vertical-align: top;\n",
       "    }\n",
       "\n",
       "    .dataframe thead th {\n",
       "        text-align: right;\n",
       "    }\n",
       "</style>\n",
       "<table border=\"1\" class=\"dataframe\">\n",
       "  <thead>\n",
       "    <tr style=\"text-align: right;\">\n",
       "      <th></th>\n",
       "      <th></th>\n",
       "      <th>amount_spent</th>\n",
       "    </tr>\n",
       "    <tr>\n",
       "      <th>Country</th>\n",
       "      <th>Class</th>\n",
       "      <th></th>\n",
       "    </tr>\n",
       "  </thead>\n",
       "  <tbody>\n",
       "    <tr>\n",
       "      <th rowspan=\"2\" valign=\"top\">Australia</th>\n",
       "      <th>RegularClient</th>\n",
       "      <td>113</td>\n",
       "    </tr>\n",
       "    <tr>\n",
       "      <th>VIPClient</th>\n",
       "      <td>1072</td>\n",
       "    </tr>\n",
       "    <tr>\n",
       "      <th rowspan=\"2\" valign=\"top\">Austria</th>\n",
       "      <th>RegularClient</th>\n",
       "      <td>79</td>\n",
       "    </tr>\n",
       "    <tr>\n",
       "      <th>VIPClient</th>\n",
       "      <td>319</td>\n",
       "    </tr>\n",
       "    <tr>\n",
       "      <th>Bahrain</th>\n",
       "      <th>RegularClient</th>\n",
       "      <td>1</td>\n",
       "    </tr>\n",
       "    <tr>\n",
       "      <th>...</th>\n",
       "      <th>...</th>\n",
       "      <td>...</td>\n",
       "    </tr>\n",
       "    <tr>\n",
       "      <th>United Arab Emirates</th>\n",
       "      <th>VIPClient</th>\n",
       "      <td>56</td>\n",
       "    </tr>\n",
       "    <tr>\n",
       "      <th rowspan=\"2\" valign=\"top\">United Kingdom</th>\n",
       "      <th>RegularClient</th>\n",
       "      <td>190001</td>\n",
       "    </tr>\n",
       "    <tr>\n",
       "      <th>VIPClient</th>\n",
       "      <td>164344</td>\n",
       "    </tr>\n",
       "    <tr>\n",
       "      <th rowspan=\"2\" valign=\"top\">Unspecified</th>\n",
       "      <th>RegularClient</th>\n",
       "      <td>154</td>\n",
       "    </tr>\n",
       "    <tr>\n",
       "      <th>VIPClient</th>\n",
       "      <td>90</td>\n",
       "    </tr>\n",
       "  </tbody>\n",
       "</table>\n",
       "<p>72 rows × 1 columns</p>\n",
       "</div>"
      ],
      "text/plain": [
       "                                    amount_spent\n",
       "Country              Class                      \n",
       "Australia            RegularClient           113\n",
       "                     VIPClient              1072\n",
       "Austria              RegularClient            79\n",
       "                     VIPClient               319\n",
       "Bahrain              RegularClient             1\n",
       "...                                          ...\n",
       "United Arab Emirates VIPClient                56\n",
       "United Kingdom       RegularClient        190001\n",
       "                     VIPClient            164344\n",
       "Unspecified          RegularClient           154\n",
       "                     VIPClient                90\n",
       "\n",
       "[72 rows x 1 columns]"
      ]
     },
     "execution_count": 32,
     "metadata": {},
     "output_type": "execute_result"
    }
   ],
   "source": [
    "# your code here\n",
    "\n",
    "def Class (x):\n",
    "    if x>11.8:\n",
    "        return \"VIPClient\"\n",
    "    else:\n",
    "        return \"RegularClient\"\n",
    "\n",
    "orders[\"Class\"]=orders['amount_spent'].apply(Class)\n",
    "\n",
    "orders.groupby([\"Country\", \"Class\"]).agg({'amount_spent':'count'})"
   ]
  },
  {
   "cell_type": "markdown",
   "metadata": {},
   "source": [
    "## Q3: How to identify which country has the most VIP+Preferred Customers combined?"
   ]
  },
  {
   "cell_type": "code",
   "execution_count": null,
   "metadata": {},
   "outputs": [],
   "source": [
    "# your code here"
   ]
  }
 ],
 "metadata": {
  "kernelspec": {
   "display_name": "Python 3.9.13 ('julyiron')",
   "language": "python",
   "name": "python3"
  },
  "language_info": {
   "codemirror_mode": {
    "name": "ipython",
    "version": 3
   },
   "file_extension": ".py",
   "mimetype": "text/x-python",
   "name": "python",
   "nbconvert_exporter": "python",
   "pygments_lexer": "ipython3",
   "version": "3.9.13"
  },
  "vscode": {
   "interpreter": {
    "hash": "3aa634455e48754882d41cb274d48fe7c1f19f54c25da1bc8bd074f4f3887dd4"
   }
  }
 },
 "nbformat": 4,
 "nbformat_minor": 2
}
